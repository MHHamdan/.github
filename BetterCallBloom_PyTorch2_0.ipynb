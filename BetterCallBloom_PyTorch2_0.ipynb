{
  "nbformat": 4,
  "nbformat_minor": 0,
  "metadata": {
    "colab": {
      "provenance": [],
      "machine_shape": "hm",
      "include_colab_link": true
    },
    "kernelspec": {
      "name": "python3",
      "display_name": "Python 3"
    },
    "language_info": {
      "name": "python"
    },
    "accelerator": "GPU",
    "gpuClass": "premium"
  },
  "cells": [
    {
      "cell_type": "markdown",
      "metadata": {
        "id": "view-in-github",
        "colab_type": "text"
      },
      "source": [
        "<a href=\"https://colab.research.google.com/github/MHHamdan/.github/blob/main/BetterCallBloom_PyTorch2_0.ipynb\" target=\"_parent\"><img src=\"https://colab.research.google.com/assets/colab-badge.svg\" alt=\"Open In Colab\"/></a>"
      ]
    },
    {
      "cell_type": "code",
      "source": [],
      "metadata": {
        "id": "le2Gi9s8XTfy"
      },
      "execution_count": null,
      "outputs": []
    },
    {
      "cell_type": "code",
      "source": [
        "!nvidia-smi"
      ],
      "metadata": {
        "colab": {
          "base_uri": "https://localhost:8080/"
        },
        "outputId": "82010465-1927-4c75-a87d-fca809b39301",
        "id": "0wedXIpLXUHz"
      },
      "execution_count": null,
      "outputs": [
        {
          "output_type": "stream",
          "name": "stdout",
          "text": [
            "Thu Apr 27 13:07:54 2023       \n",
            "+-----------------------------------------------------------------------------+\n",
            "| NVIDIA-SMI 525.85.12    Driver Version: 525.85.12    CUDA Version: 12.0     |\n",
            "|-------------------------------+----------------------+----------------------+\n",
            "| GPU  Name        Persistence-M| Bus-Id        Disp.A | Volatile Uncorr. ECC |\n",
            "| Fan  Temp  Perf  Pwr:Usage/Cap|         Memory-Usage | GPU-Util  Compute M. |\n",
            "|                               |                      |               MIG M. |\n",
            "|===============================+======================+======================|\n",
            "|   0  NVIDIA A100-SXM...  Off  | 00000000:00:04.0 Off |                    0 |\n",
            "| N/A   30C    P0    41W / 400W |      0MiB / 40960MiB |      0%      Default |\n",
            "|                               |                      |             Disabled |\n",
            "+-------------------------------+----------------------+----------------------+\n",
            "                                                                               \n",
            "+-----------------------------------------------------------------------------+\n",
            "| Processes:                                                                  |\n",
            "|  GPU   GI   CI        PID   Type   Process name                  GPU Memory |\n",
            "|        ID   ID                                                   Usage      |\n",
            "|=============================================================================|\n",
            "|  No running processes found                                                 |\n",
            "+-----------------------------------------------------------------------------+\n"
          ]
        }
      ]
    },
    {
      "cell_type": "code",
      "source": [
        "!pip3 install --pre torch torchvision torchaudio --force-reinstall --index-url https://download.pytorch.org/whl/nightly/cu118 --quiet"
      ],
      "metadata": {
        "colab": {
          "base_uri": "https://localhost:8080/"
        },
        "outputId": "2506f4ef-0a4e-4ca5-a08a-8709d66dc078",
        "id": "Fs5tU5EpXUH0"
      },
      "execution_count": null,
      "outputs": [
        {
          "output_type": "stream",
          "name": "stdout",
          "text": [
            "\u001b[2K     \u001b[90m━━━━━━━━━━━━━━━━━━━━━━━━━━━━━━━━━━━━━━━━\u001b[0m \u001b[32m2.3/2.3 GB\u001b[0m \u001b[31m942.1 kB/s\u001b[0m eta \u001b[36m0:00:00\u001b[0m\n",
            "\u001b[2K     \u001b[90m━━━━━━━━━━━━━━━━━━━━━━━━━━━━━━━━━━━━━━━━\u001b[0m \u001b[32m6.2/6.2 MB\u001b[0m \u001b[31m100.2 MB/s\u001b[0m eta \u001b[36m0:00:00\u001b[0m\n",
            "\u001b[2K     \u001b[90m━━━━━━━━━━━━━━━━━━━━━━━━━━━━━━━━━━━━━━━━\u001b[0m \u001b[32m3.6/3.6 MB\u001b[0m \u001b[31m98.7 MB/s\u001b[0m eta \u001b[36m0:00:00\u001b[0m\n",
            "\u001b[2K     \u001b[90m━━━━━━━━━━━━━━━━━━━━━━━━━━━━━━━━━━━━━━━━\u001b[0m \u001b[32m2.3/2.3 GB\u001b[0m \u001b[31m940.5 kB/s\u001b[0m eta \u001b[36m0:00:00\u001b[0m\n",
            "\u001b[2K     \u001b[90m━━━━━━━━━━━━━━━━━━━━━━━━━━━━━━━━━━━━━━━━\u001b[0m \u001b[32m2.3/2.3 GB\u001b[0m \u001b[31m794.6 kB/s\u001b[0m eta \u001b[36m0:00:00\u001b[0m\n",
            "\u001b[2K     \u001b[90m━━━━━━━━━━━━━━━━━━━━━━━━━━━━━━━━━━━━━━━━\u001b[0m \u001b[32m2.3/2.3 GB\u001b[0m \u001b[31m925.5 kB/s\u001b[0m eta \u001b[36m0:00:00\u001b[0m\n",
            "\u001b[2K     \u001b[90m━━━━━━━━━━━━━━━━━━━━━━━━━━━━━━━━━━━━━━━━\u001b[0m \u001b[32m6.5/6.5 MB\u001b[0m \u001b[31m55.5 MB/s\u001b[0m eta \u001b[36m0:00:00\u001b[0m\n",
            "\u001b[2K     \u001b[90m━━━━━━━━━━━━━━━━━━━━━━━━━━━━━━━━━━━━━━━━\u001b[0m \u001b[32m2.0/2.0 MB\u001b[0m \u001b[31m79.6 MB/s\u001b[0m eta \u001b[36m0:00:00\u001b[0m\n",
            "\u001b[2K     \u001b[90m━━━━━━━━━━━━━━━━━━━━━━━━━━━━━━━━━━━━━━━\u001b[0m \u001b[32m133.1/133.1 kB\u001b[0m \u001b[31m7.1 MB/s\u001b[0m eta \u001b[36m0:00:00\u001b[0m\n",
            "\u001b[2K     \u001b[90m━━━━━━━━━━━━━━━━━━━━━━━━━━━━━━━━━━━━━━━━\u001b[0m \u001b[32m88.8/88.8 MB\u001b[0m \u001b[31m19.1 MB/s\u001b[0m eta \u001b[36m0:00:00\u001b[0m\n",
            "\u001b[2K     \u001b[90m━━━━━━━━━━━━━━━━━━━━━━━━━━━━━━━━━━━━━━━━\u001b[0m \u001b[32m3.2/3.2 MB\u001b[0m \u001b[31m89.2 MB/s\u001b[0m eta \u001b[36m0:00:00\u001b[0m\n",
            "\u001b[2K     \u001b[90m━━━━━━━━━━━━━━━━━━━━━━━━━━━━━━━━━━━━━━━━\u001b[0m \u001b[32m17.3/17.3 MB\u001b[0m \u001b[31m83.1 MB/s\u001b[0m eta \u001b[36m0:00:00\u001b[0m\n",
            "\u001b[2K     \u001b[90m━━━━━━━━━━━━━━━━━━━━━━━━━━━━━━━━━━━━━━━━\u001b[0m \u001b[32m62.8/62.8 kB\u001b[0m \u001b[31m8.6 MB/s\u001b[0m eta \u001b[36m0:00:00\u001b[0m\n",
            "\u001b[2K     \u001b[90m━━━━━━━━━━━━━━━━━━━━━━━━━━━━━━━━━━━━━━━━\u001b[0m \u001b[32m6.2/6.2 MB\u001b[0m \u001b[31m106.9 MB/s\u001b[0m eta \u001b[36m0:00:00\u001b[0m\n",
            "\u001b[2K     \u001b[90m━━━━━━━━━━━━━━━━━━━━━━━━━━━━━━━━━━━━━━━━\u001b[0m \u001b[32m6.2/6.2 MB\u001b[0m \u001b[31m55.7 MB/s\u001b[0m eta \u001b[36m0:00:00\u001b[0m\n",
            "\u001b[2K     \u001b[90m━━━━━━━━━━━━━━━━━━━━━━━━━━━━━━━━━━━━━━━━\u001b[0m \u001b[32m3.6/3.6 MB\u001b[0m \u001b[31m99.2 MB/s\u001b[0m eta \u001b[36m0:00:00\u001b[0m\n",
            "\u001b[2K     \u001b[90m━━━━━━━━━━━━━━━━━━━━━━━━━━━━━━━━━━━━━━━━\u001b[0m \u001b[32m3.6/3.6 MB\u001b[0m \u001b[31m102.5 MB/s\u001b[0m eta \u001b[36m0:00:00\u001b[0m\n",
            "\u001b[2K     \u001b[90m━━━━━━━━━━━━━━━━━━━━━━━━━━━━━━━━━━━━━━━━\u001b[0m \u001b[32m3.6/3.6 MB\u001b[0m \u001b[31m62.2 MB/s\u001b[0m eta \u001b[36m0:00:00\u001b[0m\n",
            "\u001b[2K     \u001b[90m━━━━━━━━━━━━━━━━━━━━━━━━━━━━━━━━━━━━━━\u001b[0m \u001b[32m155.3/155.3 kB\u001b[0m \u001b[31m19.7 MB/s\u001b[0m eta \u001b[36m0:00:00\u001b[0m\n",
            "\u001b[2K     \u001b[90m━━━━━━━━━━━━━━━━━━━━━━━━━━━━━━━━━━━━━━━━\u001b[0m \u001b[32m61.5/61.5 kB\u001b[0m \u001b[31m8.5 MB/s\u001b[0m eta \u001b[36m0:00:00\u001b[0m\n",
            "\u001b[2K     \u001b[90m━━━━━━━━━━━━━━━━━━━━━━━━━━━━━━━━━━━━━━\u001b[0m \u001b[32m140.6/140.6 kB\u001b[0m \u001b[31m16.6 MB/s\u001b[0m eta \u001b[36m0:00:00\u001b[0m\n",
            "\u001b[2K     \u001b[90m━━━━━━━━━━━━━━━━━━━━━━━━━━━━━━━━━━━━━━\u001b[0m \u001b[32m532.6/532.6 kB\u001b[0m \u001b[31m40.0 MB/s\u001b[0m eta \u001b[36m0:00:00\u001b[0m\n",
            "\u001b[?25h\u001b[31mERROR: pip's dependency resolver does not currently take into account all the packages that are installed. This behaviour is the source of the following dependency conflicts.\n",
            "torchtext 0.15.1 requires torch==2.0.0, but you have torch 2.1.0.dev20230424+cu118 which is incompatible.\n",
            "torchdata 0.6.0 requires torch==2.0.0, but you have torch 2.1.0.dev20230424+cu118 which is incompatible.\n",
            "tensorflow 2.12.0 requires numpy<1.24,>=1.22, but you have numpy 1.24.1 which is incompatible.\n",
            "numba 0.56.4 requires numpy<1.24,>=1.18, but you have numpy 1.24.1 which is incompatible.\n",
            "fastai 2.7.12 requires torch<2.1,>=1.7, but you have torch 2.1.0.dev20230424+cu118 which is incompatible.\u001b[0m\u001b[31m\n",
            "\u001b[0m"
          ]
        }
      ]
    },
    {
      "cell_type": "code",
      "source": [
        "!pip install transformers==4.27.1\n",
        "!pip install datasets --quiet\n",
        "!pip install accelerate --quiet\n",
        "!pip install expecttest --quiet\n",
        "!pip install numpy==1.24.3 "
      ],
      "metadata": {
        "colab": {
          "base_uri": "https://localhost:8080/"
        },
        "outputId": "490af25a-2efe-48ca-84ea-ad246c15f33e",
        "id": "XpBkhXC2XUH1"
      },
      "execution_count": null,
      "outputs": [
        {
          "output_type": "stream",
          "name": "stdout",
          "text": [
            "Looking in indexes: https://pypi.org/simple, https://us-python.pkg.dev/colab-wheels/public/simple/\n",
            "Collecting transformers==4.27.1\n",
            "  Downloading transformers-4.27.1-py3-none-any.whl (6.7 MB)\n",
            "\u001b[2K     \u001b[90m━━━━━━━━━━━━━━━━━━━━━━━━━━━━━━━━━━━━━━━━\u001b[0m \u001b[32m6.7/6.7 MB\u001b[0m \u001b[31m57.1 MB/s\u001b[0m eta \u001b[36m0:00:00\u001b[0m\n",
            "\u001b[?25hRequirement already satisfied: requests in /usr/local/lib/python3.9/dist-packages (from transformers==4.27.1) (2.28.1)\n",
            "Collecting huggingface-hub<1.0,>=0.11.0\n",
            "  Downloading huggingface_hub-0.14.1-py3-none-any.whl (224 kB)\n",
            "\u001b[2K     \u001b[90m━━━━━━━━━━━━━━━━━━━━━━━━━━━━━━━━━━━━━━\u001b[0m \u001b[32m224.5/224.5 kB\u001b[0m \u001b[31m28.1 MB/s\u001b[0m eta \u001b[36m0:00:00\u001b[0m\n",
            "\u001b[?25hCollecting tokenizers!=0.11.3,<0.14,>=0.11.1\n",
            "  Downloading tokenizers-0.13.3-cp39-cp39-manylinux_2_17_x86_64.manylinux2014_x86_64.whl (7.8 MB)\n",
            "\u001b[2K     \u001b[90m━━━━━━━━━━━━━━━━━━━━━━━━━━━━━━━━━━━━━━━━\u001b[0m \u001b[32m7.8/7.8 MB\u001b[0m \u001b[31m98.6 MB/s\u001b[0m eta \u001b[36m0:00:00\u001b[0m\n",
            "\u001b[?25hRequirement already satisfied: packaging>=20.0 in /usr/local/lib/python3.9/dist-packages (from transformers==4.27.1) (23.1)\n",
            "Requirement already satisfied: pyyaml>=5.1 in /usr/local/lib/python3.9/dist-packages (from transformers==4.27.1) (6.0)\n",
            "Requirement already satisfied: regex!=2019.12.17 in /usr/local/lib/python3.9/dist-packages (from transformers==4.27.1) (2022.10.31)\n",
            "Requirement already satisfied: tqdm>=4.27 in /usr/local/lib/python3.9/dist-packages (from transformers==4.27.1) (4.65.0)\n",
            "Requirement already satisfied: filelock in /usr/local/lib/python3.9/dist-packages (from transformers==4.27.1) (3.9.0)\n",
            "Requirement already satisfied: numpy>=1.17 in /usr/local/lib/python3.9/dist-packages (from transformers==4.27.1) (1.24.1)\n",
            "Requirement already satisfied: fsspec in /usr/local/lib/python3.9/dist-packages (from huggingface-hub<1.0,>=0.11.0->transformers==4.27.1) (2023.4.0)\n",
            "Requirement already satisfied: typing-extensions>=3.7.4.3 in /usr/local/lib/python3.9/dist-packages (from huggingface-hub<1.0,>=0.11.0->transformers==4.27.1) (4.4.0)\n",
            "Requirement already satisfied: charset-normalizer<3,>=2 in /usr/local/lib/python3.9/dist-packages (from requests->transformers==4.27.1) (2.1.1)\n",
            "Requirement already satisfied: idna<4,>=2.5 in /usr/local/lib/python3.9/dist-packages (from requests->transformers==4.27.1) (3.4)\n",
            "Requirement already satisfied: certifi>=2017.4.17 in /usr/local/lib/python3.9/dist-packages (from requests->transformers==4.27.1) (2022.12.7)\n",
            "Requirement already satisfied: urllib3<1.27,>=1.21.1 in /usr/local/lib/python3.9/dist-packages (from requests->transformers==4.27.1) (1.26.13)\n",
            "Installing collected packages: tokenizers, huggingface-hub, transformers\n",
            "Successfully installed huggingface-hub-0.14.1 tokenizers-0.13.3 transformers-4.27.1\n",
            "\u001b[2K     \u001b[90m━━━━━━━━━━━━━━━━━━━━━━━━━━━━━━━━━━━━━━\u001b[0m \u001b[32m468.7/468.7 kB\u001b[0m \u001b[31m20.8 MB/s\u001b[0m eta \u001b[36m0:00:00\u001b[0m\n",
            "\u001b[2K     \u001b[90m━━━━━━━━━━━━━━━━━━━━━━━━━━━━━━━━━━━━━━━━\u001b[0m \u001b[32m1.0/1.0 MB\u001b[0m \u001b[31m63.6 MB/s\u001b[0m eta \u001b[36m0:00:00\u001b[0m\n",
            "\u001b[2K     \u001b[90m━━━━━━━━━━━━━━━━━━━━━━━━━━━━━━━━━━━━━━\u001b[0m \u001b[32m110.5/110.5 kB\u001b[0m \u001b[31m15.5 MB/s\u001b[0m eta \u001b[36m0:00:00\u001b[0m\n",
            "\u001b[2K     \u001b[90m━━━━━━━━━━━━━━━━━━━━━━━━━━━━━━━━━━━━━━\u001b[0m \u001b[32m132.9/132.9 kB\u001b[0m \u001b[31m18.0 MB/s\u001b[0m eta \u001b[36m0:00:00\u001b[0m\n",
            "\u001b[2K     \u001b[90m━━━━━━━━━━━━━━━━━━━━━━━━━━━━━━━━━━━━━━\u001b[0m \u001b[32m212.2/212.2 kB\u001b[0m \u001b[31m26.0 MB/s\u001b[0m eta \u001b[36m0:00:00\u001b[0m\n",
            "\u001b[2K     \u001b[90m━━━━━━━━━━━━━━━━━━━━━━━━━━━━━━━━━━━━━━\u001b[0m \u001b[32m114.2/114.2 kB\u001b[0m \u001b[31m15.5 MB/s\u001b[0m eta \u001b[36m0:00:00\u001b[0m\n",
            "\u001b[2K     \u001b[90m━━━━━━━━━━━━━━━━━━━━━━━━━━━━━━━━━━━━━━\u001b[0m \u001b[32m158.8/158.8 kB\u001b[0m \u001b[31m17.9 MB/s\u001b[0m eta \u001b[36m0:00:00\u001b[0m\n",
            "\u001b[2K     \u001b[90m━━━━━━━━━━━━━━━━━━━━━━━━━━━━━━━━━━━━━━\u001b[0m \u001b[32m269.4/269.4 kB\u001b[0m \u001b[31m21.3 MB/s\u001b[0m eta \u001b[36m0:00:00\u001b[0m\n",
            "\u001b[2K     \u001b[90m━━━━━━━━━━━━━━━━━━━━━━━━━━━━━━━━━━━━━\u001b[0m \u001b[32m215.3/215.3 kB\u001b[0m \u001b[31m724.2 kB/s\u001b[0m eta \u001b[36m0:00:00\u001b[0m\n",
            "\u001b[?25hLooking in indexes: https://pypi.org/simple, https://us-python.pkg.dev/colab-wheels/public/simple/\n",
            "Collecting numpy==1.24.3\n",
            "  Downloading numpy-1.24.3-cp39-cp39-manylinux_2_17_x86_64.manylinux2014_x86_64.whl (17.3 MB)\n",
            "\u001b[2K     \u001b[90m━━━━━━━━━━━━━━━━━━━━━━━━━━━━━━━━━━━━━━━━\u001b[0m \u001b[32m17.3/17.3 MB\u001b[0m \u001b[31m72.5 MB/s\u001b[0m eta \u001b[36m0:00:00\u001b[0m\n",
            "\u001b[?25hInstalling collected packages: numpy\n",
            "  Attempting uninstall: numpy\n",
            "    Found existing installation: numpy 1.24.1\n",
            "    Uninstalling numpy-1.24.1:\n",
            "      Successfully uninstalled numpy-1.24.1\n",
            "\u001b[31mERROR: pip's dependency resolver does not currently take into account all the packages that are installed. This behaviour is the source of the following dependency conflicts.\n",
            "torchtext 0.15.1 requires torch==2.0.0, but you have torch 2.1.0.dev20230424+cu118 which is incompatible.\n",
            "tensorflow 2.12.0 requires numpy<1.24,>=1.22, but you have numpy 1.24.3 which is incompatible.\n",
            "numba 0.56.4 requires numpy<1.24,>=1.18, but you have numpy 1.24.3 which is incompatible.\n",
            "fastai 2.7.12 requires torch<2.1,>=1.7, but you have torch 2.1.0.dev20230424+cu118 which is incompatible.\u001b[0m\u001b[31m\n",
            "\u001b[0mSuccessfully installed numpy-1.24.3\n"
          ]
        }
      ]
    },
    {
      "cell_type": "code",
      "source": [
        "import torch\n",
        "import transformers\n",
        "from transformers import Trainer, TrainingArguments\n",
        "import time\n",
        "from datasets import load_dataset\n",
        "from transformers import BloomTokenizerFast, BloomForCausalLM\n",
        "\n",
        "print(\"Pytorch version:\", torch.__version__)\n",
        "print(\"Transformers version:\", transformers.__version__)"
      ],
      "metadata": {
        "colab": {
          "base_uri": "https://localhost:8080/"
        },
        "outputId": "bb25f1ea-8fb1-4739-f3be-f0ebced9caa5",
        "id": "mOo2dHekXUH1"
      },
      "execution_count": null,
      "outputs": [
        {
          "output_type": "stream",
          "name": "stdout",
          "text": [
            "Pytorch version: 2.1.0.dev20230424+cu118\n",
            "Transformers version: 4.27.1\n"
          ]
        }
      ]
    },
    {
      "cell_type": "code",
      "source": [
        "dataset = load_dataset(\"pile-of-law/pile-of-law\",'r_legaladvice')"
      ],
      "metadata": {
        "colab": {
          "base_uri": "https://localhost:8080/",
          "height": 637,
          "referenced_widgets": [
            "fa354c18e4074c0cbd7eabd6e1379d5e",
            "57d95e0e8f3940deaaa0a06fa13d7385",
            "2cffb1dcff8142ef8aca748bfdab642c",
            "1fb90eedd52a4fe3a2d922f5f3c0efd4",
            "2f7ff2d40e2645f2aa85c58e0ae62601",
            "79a1adecc54e4b6eaba5f32cdaaa48af",
            "11c05182a47b418891f30ae4b3e27e13",
            "1a7f9038d6fe4f498e44be0fbe5879bb",
            "8627bd6e48354084b622c1fbe1a113f7",
            "06836ca0cfed4300b829a86e70ba458f",
            "114ce0de681f4679a00c16240633fdff",
            "fcd22ebe44964ba6b8fc7d2a8bde6ddf",
            "de024858e25e499da2fdd7681f4c7862",
            "02851d8e3b174118937fe4e592da910d",
            "b48d1c4b2c7d4e119d9274855f5759a1",
            "a64bc5c9f65947ad918f5a7bce0f7b48",
            "ff8d7ef7a84642d8be6bb4443791b994",
            "0ca4695f68d54183b85921bcfd0fad66",
            "62fbdee3b54c42c5a978622946a7908e",
            "ce0381af5c4b4c048a8dfbdfd32bb654",
            "a6f52b3295ff4234afadc62b5a9f1f08",
            "fd407a2cbb004eac9f38e8ab355c54ba",
            "fe8b7fad296b470a8359a749678773be",
            "a0cb489e9220437a91840a26ec18c80e",
            "f694cf3c0dd64edfb3ca65a7925c9616",
            "a6ebd95fa66843ac8632666d98269864",
            "c2c82a4a10d44c029699f19828454c09",
            "6df55852e8c74cc3a4e5f17c782c9f62",
            "421cf531e54641378e9c8698fb25be13",
            "9b3facfe344a4d25a3c3d3c882ce824a",
            "3b5df2e91f1d4e2f910b4c70855f8f48",
            "2cb86d6a49ba41778ed4b0173355d07e",
            "ae04d973a21d4af99cbdce0a85cf5e15",
            "7396dc9a4e7b4c24ad7d8b22fad92bc1",
            "f7a4dd4753be483b897d71d40efd94f8",
            "45f89112a42042f0af4971ce9e4dba6e",
            "8109c119cf0f4a0f866ef19ab49a74a7",
            "7369dbf8611349e9bd79db9314c3a57e",
            "9786f855c59a4acab44e39a52ca69694",
            "f7c34a1f930343d29630ce6a680a80dc",
            "759a7b5739fe4eecaa1e4583e8ab4348",
            "ec3c0123383f4358965bda3a34e59de4",
            "7e474d6a476f4ee7a940cc3f3c796627",
            "a9a5cc5e084c4ec1b0675b7ce809abf7",
            "378c6dbd565142458d1be19d82781816",
            "d0498400128446d59c40f234f0e82a7d",
            "e95336c9c1424fc496268e344d775f69",
            "4fe615d75a6f451c92bc07f1842e1003",
            "c248419a90ad4cf58786af4a8761a3cc",
            "acf230d4fe6c41a9a6f32815c8982812",
            "a3aae3ce199346b1afc31b2ac7e85a43",
            "df1bb00f683b4258b2c74a524b58bdd4",
            "168c9b51733c4e068c728a203ffc3255",
            "2e35a3347162433298f335ddeb95ae9e",
            "33ee7fdb568a453b8d98bc5e0666ff4d",
            "755c4cab36734f67a5703a16af9a4898",
            "57580b1769024638a92f96ac1e84ebaa",
            "4604fd1017d942528e0744090842b331",
            "9f10e4a02a1f4343802f4a201895fd10",
            "70efb2e9a7ca4f6e97c221a50655d32a",
            "c25e268f1c26420ea2c2acb5bfc2b147",
            "4959e814315a4456b95fe4b4954e232f",
            "762b0abc9e9d4891856360a929f08b52",
            "6f7d985be6b148ebbf57cd9f14797803",
            "552c16857ab7469983731684fa9a7e6b",
            "e31fb52796f3443ca22fba5513df29f0",
            "d8e5b47f59d5413db2098de95d13fae7",
            "e2ab0dcf142d42a2a7d31783c3f0d3a4",
            "14d722a8e53f49c5ab2bbeea3fe1ce6e",
            "7bbb57b842be4df4b1e4eb5d4be9ccbd",
            "17013a50a49c4f7baa4b9d291d03034d",
            "1e0d0fef60c4450c8289f870295fafa6",
            "3389ff8fe7e044da87c429ff12ba2947",
            "20a6dd722217403398618fd930d89ab9",
            "9ed74ac833d54be1a7e0b356fcb76e6d",
            "ce446b7caef8459398449b99aa7e40eb",
            "7fe62fbec6c24d2189ff487652ae3d4c",
            "021f5ba5b74446e39adf2ac754ba956d",
            "17a831a028bf400fb6188d9a726349be",
            "2d9920b9edff4d62853e405ab2fba7b4",
            "dc2d3537e4394b279a4bafd68171be80",
            "b982e2e41e2a496591052f0c43e76f2a",
            "c7f2ed060fec4552998ac0f2933550c9",
            "485b993d9ee64f0a8daa5aa7c7e11da9",
            "3f060add0d6c4cf6a3e457f31724fb1c",
            "4d7a557d5d044c59b868fac7cc9fccb1",
            "d074ca22227742b5b73dc1072bded94d",
            "76e6bd0d505149cb9baf65ed3eb44fec",
            "782bfb8c4b414bcf8cc55f56c68d02e0",
            "cc02b2cce5084fab8841816efe402212",
            "5520fd6665f14960b361741fd182e597",
            "e6fd6cd5601641b292f3391c778c61c4",
            "7ebc32ac57dc4f479516ed712ad037a8",
            "2077daf3a64848cf942db066c74c86bd",
            "4457672636764fafa4600363c9341d8c",
            "a1b9ce6e0a8c40b4848564295e0a2bc0",
            "ebf29e08cb7b47bca291fd9c0360e65e",
            "7b10b124adb24a489ee5a602a933764e",
            "e4ec5f7d84a74925a582a7e0af336ce7"
          ]
        },
        "outputId": "7a2957cd-f069-40fd-c9e2-62fd4eaa379f",
        "id": "zTFC6Ln6XUH1"
      },
      "execution_count": null,
      "outputs": [
        {
          "output_type": "display_data",
          "data": {
            "text/plain": [
              "Downloading builder script:   0%|          | 0.00/20.9k [00:00<?, ?B/s]"
            ],
            "application/vnd.jupyter.widget-view+json": {
              "version_major": 2,
              "version_minor": 0,
              "model_id": "fa354c18e4074c0cbd7eabd6e1379d5e"
            }
          },
          "metadata": {}
        },
        {
          "output_type": "display_data",
          "data": {
            "text/plain": [
              "Downloading readme:   0%|          | 0.00/25.6k [00:00<?, ?B/s]"
            ],
            "application/vnd.jupyter.widget-view+json": {
              "version_major": 2,
              "version_minor": 0,
              "model_id": "fcd22ebe44964ba6b8fc7d2a8bde6ddf"
            }
          },
          "metadata": {}
        },
        {
          "output_type": "stream",
          "name": "stderr",
          "text": [
            "INFO:datasets.info:Loading Dataset Infos from /root/.cache/huggingface/modules/datasets_modules/datasets/pile-of-law--pile-of-law/c1090502f95031ebfad49ede680394da5532909fa46b7a0452be8cddecc9fa60\n",
            "INFO:datasets.builder:Generating dataset pile-of-law (/root/.cache/huggingface/datasets/pile-of-law___pile-of-law/r_legaladvice/0.0.0/c1090502f95031ebfad49ede680394da5532909fa46b7a0452be8cddecc9fa60)\n"
          ]
        },
        {
          "output_type": "stream",
          "name": "stdout",
          "text": [
            "Downloading and preparing dataset pile-of-law/r_legaladvice to /root/.cache/huggingface/datasets/pile-of-law___pile-of-law/r_legaladvice/0.0.0/c1090502f95031ebfad49ede680394da5532909fa46b7a0452be8cddecc9fa60...\n"
          ]
        },
        {
          "output_type": "stream",
          "name": "stderr",
          "text": [
            "INFO:datasets.builder:Dataset not on Hf google storage. Downloading and preparing it from source\n"
          ]
        },
        {
          "output_type": "display_data",
          "data": {
            "text/plain": [
              "Downloading data files:   0%|          | 0/1 [00:00<?, ?it/s]"
            ],
            "application/vnd.jupyter.widget-view+json": {
              "version_major": 2,
              "version_minor": 0,
              "model_id": "fe8b7fad296b470a8359a749678773be"
            }
          },
          "metadata": {}
        },
        {
          "output_type": "stream",
          "name": "stderr",
          "text": [
            "INFO:datasets.utils.file_utils:https://huggingface.co/datasets/pile-of-law/pile-of-law/resolve/main/data/train.r_legaldvice.jsonl.xz not found in cache or force_download set to True, downloading to /root/.cache/huggingface/datasets/downloads/tmp46tm9yga\n"
          ]
        },
        {
          "output_type": "display_data",
          "data": {
            "text/plain": [
              "Downloading data:   0%|          | 0.00/61.5M [00:00<?, ?B/s]"
            ],
            "application/vnd.jupyter.widget-view+json": {
              "version_major": 2,
              "version_minor": 0,
              "model_id": "7396dc9a4e7b4c24ad7d8b22fad92bc1"
            }
          },
          "metadata": {}
        },
        {
          "output_type": "stream",
          "name": "stderr",
          "text": [
            "INFO:datasets.utils.file_utils:storing https://huggingface.co/datasets/pile-of-law/pile-of-law/resolve/main/data/train.r_legaldvice.jsonl.xz in cache at /root/.cache/huggingface/datasets/downloads/3401aa15961b3081a5a04646851c71451f98bc46a642f049a73b5bf2e7ce9876\n",
            "INFO:datasets.utils.file_utils:creating metadata file for /root/.cache/huggingface/datasets/downloads/3401aa15961b3081a5a04646851c71451f98bc46a642f049a73b5bf2e7ce9876\n",
            "INFO:datasets.download.download_manager:Downloading took 0.0 min\n",
            "INFO:datasets.download.download_manager:Checksum Computation took 0.0 min\n"
          ]
        },
        {
          "output_type": "display_data",
          "data": {
            "text/plain": [
              "Downloading data files:   0%|          | 0/1 [00:00<?, ?it/s]"
            ],
            "application/vnd.jupyter.widget-view+json": {
              "version_major": 2,
              "version_minor": 0,
              "model_id": "378c6dbd565142458d1be19d82781816"
            }
          },
          "metadata": {}
        },
        {
          "output_type": "stream",
          "name": "stderr",
          "text": [
            "INFO:datasets.utils.file_utils:https://huggingface.co/datasets/pile-of-law/pile-of-law/resolve/main/data/validation.r_legaldvice.jsonl.xz not found in cache or force_download set to True, downloading to /root/.cache/huggingface/datasets/downloads/tmphnq6ysn6\n"
          ]
        },
        {
          "output_type": "display_data",
          "data": {
            "text/plain": [
              "Downloading data:   0%|          | 0.00/20.7M [00:00<?, ?B/s]"
            ],
            "application/vnd.jupyter.widget-view+json": {
              "version_major": 2,
              "version_minor": 0,
              "model_id": "755c4cab36734f67a5703a16af9a4898"
            }
          },
          "metadata": {}
        },
        {
          "output_type": "stream",
          "name": "stderr",
          "text": [
            "INFO:datasets.utils.file_utils:storing https://huggingface.co/datasets/pile-of-law/pile-of-law/resolve/main/data/validation.r_legaldvice.jsonl.xz in cache at /root/.cache/huggingface/datasets/downloads/a1ef937f954b208b1e34406796793ca2d775f7d96ade8fbb7fef66979430b6a8\n",
            "INFO:datasets.utils.file_utils:creating metadata file for /root/.cache/huggingface/datasets/downloads/a1ef937f954b208b1e34406796793ca2d775f7d96ade8fbb7fef66979430b6a8\n",
            "INFO:datasets.download.download_manager:Downloading took 0.0 min\n",
            "INFO:datasets.download.download_manager:Checksum Computation took 0.0 min\n",
            "INFO:datasets.builder:Generating train split\n"
          ]
        },
        {
          "output_type": "display_data",
          "data": {
            "text/plain": [
              "Generating train split: 0 examples [00:00, ? examples/s]"
            ],
            "application/vnd.jupyter.widget-view+json": {
              "version_major": 2,
              "version_minor": 0,
              "model_id": "d8e5b47f59d5413db2098de95d13fae7"
            }
          },
          "metadata": {}
        },
        {
          "output_type": "stream",
          "name": "stderr",
          "text": [
            "INFO:datasets.builder:Generating validation split\n"
          ]
        },
        {
          "output_type": "display_data",
          "data": {
            "text/plain": [
              "Generating validation split: 0 examples [00:00, ? examples/s]"
            ],
            "application/vnd.jupyter.widget-view+json": {
              "version_major": 2,
              "version_minor": 0,
              "model_id": "021f5ba5b74446e39adf2ac754ba956d"
            }
          },
          "metadata": {}
        },
        {
          "output_type": "stream",
          "name": "stderr",
          "text": [
            "INFO:datasets.utils.info_utils:Unable to verify splits sizes.\n"
          ]
        },
        {
          "output_type": "stream",
          "name": "stdout",
          "text": [
            "Dataset pile-of-law downloaded and prepared to /root/.cache/huggingface/datasets/pile-of-law___pile-of-law/r_legaladvice/0.0.0/c1090502f95031ebfad49ede680394da5532909fa46b7a0452be8cddecc9fa60. Subsequent calls will reuse this data.\n"
          ]
        },
        {
          "output_type": "display_data",
          "data": {
            "text/plain": [
              "  0%|          | 0/2 [00:00<?, ?it/s]"
            ],
            "application/vnd.jupyter.widget-view+json": {
              "version_major": 2,
              "version_minor": 0,
              "model_id": "782bfb8c4b414bcf8cc55f56c68d02e0"
            }
          },
          "metadata": {}
        }
      ]
    },
    {
      "cell_type": "code",
      "source": [
        "print(dataset)"
      ],
      "metadata": {
        "colab": {
          "base_uri": "https://localhost:8080/"
        },
        "outputId": "4dc1c718-cd78-4a3f-d839-947b6406accc",
        "id": "DKgKTHqWXUH2"
      },
      "execution_count": null,
      "outputs": [
        {
          "output_type": "stream",
          "name": "stdout",
          "text": [
            "DatasetDict({\n",
            "    train: Dataset({\n",
            "        features: ['text', 'created_timestamp', 'downloaded_timestamp', 'url'],\n",
            "        num_rows: 109740\n",
            "    })\n",
            "    validation: Dataset({\n",
            "        features: ['text', 'created_timestamp', 'downloaded_timestamp', 'url'],\n",
            "        num_rows: 36931\n",
            "    })\n",
            "})\n"
          ]
        }
      ]
    },
    {
      "cell_type": "code",
      "source": [
        "tokenizer = BloomTokenizerFast.from_pretrained(\"bigscience/bloom-3b\")\n",
        "model = BloomForCausalLM.from_pretrained(\"bigscience/bloom-3b\")\n",
        "\n",
        "#Lighter Bloom version :\n",
        "#tokenizer = BloomTokenizerFast.from_pretrained(\"bigscience/bloom-560m\")\n",
        "#model = BloomForCausalLM.from_pretrained(\"bigscience/bloom-560m\")"
      ],
      "metadata": {
        "colab": {
          "base_uri": "https://localhost:8080/",
          "height": 177,
          "referenced_widgets": [
            "98d0dca217e049f6ab4dd61b8d14406d",
            "3e64371f26544267bf0d0751a4dbf592",
            "4d9628d2804247a5bd7f463e40356973",
            "9beaab60cade4359bc75251b6e8ddf61",
            "a6ce68032c294a5cb344bf80a21e7162",
            "ada65de0b21f472d8136bd0ed1f0cb27",
            "3094b72c56aa43e4addd9d02047b19db",
            "3ddcaadc8e2c411e8f9914cc0339a12e",
            "9c97296c90004ed7a927efa0e92a6095",
            "26f9e749637846c78c8d4a8eb75ea6ec",
            "9d26943ce71c4bf68166cf68e0be03f7",
            "e89237a896134fda9d358f99e52b87d9",
            "460a62a2b0c34b38bca6e51bf8450b20",
            "0182bc6279a949a58aa4bc94c100edbc",
            "3e7808bbb74944058397da28275875bf",
            "b988b3852a824742a73c19885ff87005",
            "24c53dca9f63475c9b0d0cac685ef457",
            "9e37530b64ad4f438578aa0c015aea83",
            "5da79b242ca4437287334117abfe26c1",
            "348d3c3b44a94735aff6dd06862bb223",
            "996f1c5681694f2fa3abe984a46a3348",
            "88d9365bf7b648c4952123ebeebcb048",
            "c02f649673084f62a680ae4f8f910e52",
            "00c8fe00b4214b928e91545dbb8195b7",
            "a3d05153c6084ad7b84defdac37bae1e",
            "6a647aa0609943f192935e239fd0cf65",
            "e241f27757ea4d71b0ad23647724b5dd",
            "f52e8a5349c54f5ebbf13ce4cf7ba424",
            "885c997c1cf24d7abf6051e8b5a2d426",
            "6b5f4bd1c3b844388f83464ecd80d02c",
            "324472e815204276af1e2fdc7ccd5739",
            "7763475d70a84759888d002c8b09b3a3",
            "7689790f780a476aa926653f44cb956a",
            "00ffaa7455a24419859d7a481e263021",
            "bbb35b5f8c76413682db803813914c9f",
            "ab993f2f827e432f9c77d2fe4e294c60",
            "01642d763527412e84cdc266703df8ba",
            "9f98b486298647f3b94e65461429b5aa",
            "674678d2872b45a99693894ab747165b",
            "6ecf3038d1d24b55a02a4607a4e1d704",
            "3b2c2bd283af46b192e4efdadcf6f380",
            "17eaa9ce7f594f30b1733498e89bdbe4",
            "1cb7868b6ddc4652b31269d9e3a4dc39",
            "f66900de0b09496b8414d0f1cdd1fbd6",
            "b151d4b45fad4ea8831edf928d424e42",
            "8d469cc0ebbd493e94561652c4ba315c",
            "1c54179acbc949bc8d46a7a247826b4e",
            "e986418371d94ce8b845a035dcc6be81",
            "69fa77152d2e4e098bf6a0af0137cd65",
            "5c2e08fdcc324798ab8f396147f2444e",
            "3f45d81fc8484362903b6acdc4575b38",
            "2b728e98ed424d75b46d0d00182a035a",
            "c655d4495a59467d934f220881e2badf",
            "9cb0542cf9324d39bd38a440ab35a27d",
            "330879558a414b9ba6f8a928b7206b72"
          ]
        },
        "outputId": "ea713ad8-bff9-4657-8623-dc0b150fbc84",
        "id": "Sn99SH1mXUH2"
      },
      "execution_count": null,
      "outputs": [
        {
          "output_type": "display_data",
          "data": {
            "text/plain": [
              "Downloading (…)okenizer_config.json:   0%|          | 0.00/222 [00:00<?, ?B/s]"
            ],
            "application/vnd.jupyter.widget-view+json": {
              "version_major": 2,
              "version_minor": 0,
              "model_id": "98d0dca217e049f6ab4dd61b8d14406d"
            }
          },
          "metadata": {}
        },
        {
          "output_type": "display_data",
          "data": {
            "text/plain": [
              "Downloading tokenizer.json:   0%|          | 0.00/14.5M [00:00<?, ?B/s]"
            ],
            "application/vnd.jupyter.widget-view+json": {
              "version_major": 2,
              "version_minor": 0,
              "model_id": "e89237a896134fda9d358f99e52b87d9"
            }
          },
          "metadata": {}
        },
        {
          "output_type": "display_data",
          "data": {
            "text/plain": [
              "Downloading (…)cial_tokens_map.json:   0%|          | 0.00/85.0 [00:00<?, ?B/s]"
            ],
            "application/vnd.jupyter.widget-view+json": {
              "version_major": 2,
              "version_minor": 0,
              "model_id": "c02f649673084f62a680ae4f8f910e52"
            }
          },
          "metadata": {}
        },
        {
          "output_type": "display_data",
          "data": {
            "text/plain": [
              "Downloading (…)lve/main/config.json:   0%|          | 0.00/693 [00:00<?, ?B/s]"
            ],
            "application/vnd.jupyter.widget-view+json": {
              "version_major": 2,
              "version_minor": 0,
              "model_id": "00ffaa7455a24419859d7a481e263021"
            }
          },
          "metadata": {}
        },
        {
          "output_type": "display_data",
          "data": {
            "text/plain": [
              "Downloading pytorch_model.bin:   0%|          | 0.00/6.01G [00:00<?, ?B/s]"
            ],
            "application/vnd.jupyter.widget-view+json": {
              "version_major": 2,
              "version_minor": 0,
              "model_id": "b151d4b45fad4ea8831edf928d424e42"
            }
          },
          "metadata": {}
        }
      ]
    },
    {
      "cell_type": "code",
      "source": [
        "def tokenize_function(examples):\n",
        "    return tokenizer(examples[\"text\"])\n",
        "\n",
        "tokenized_dataset = dataset.map(tokenize_function, \n",
        "                                batched=True, \n",
        "                                num_proc=8, \n",
        "                                remove_columns=[\"text\",\"created_timestamp\",\"downloaded_timestamp\",\"url\"])"
      ],
      "metadata": {
        "colab": {
          "base_uri": "https://localhost:8080/",
          "height": 662,
          "referenced_widgets": [
            "1c9799648bc742f89e8ea8559d1f00d2",
            "a42be0770dbf42f9b3619b277eac8286",
            "dc9d4b7b169c482f988032a5ab7e3b29",
            "2339671c8a2345bc807f4e850336b43b",
            "dcbeb375657c4077b2b5209d25f8865d",
            "d87db16b39ee4b61af0078a30caa959d",
            "c74ac690f91545dab8ff8b9cd6b19ffd",
            "d7219117e3c040e5853cc2284785247f",
            "2a96b2fd28da416a992dcd3a493dd340",
            "6ad9b64f76724dbdb8975fe01bda9eeb",
            "42685f22a3494c47917729093e791131",
            "4771355b40b7486ca3ab40236a76c309",
            "c33cc1b166b741798140fbf6674e0fc4",
            "60b0868bc5084ca088c684c6221f88ad",
            "d349f64884bb4ceea48f8adb54e963b9",
            "317c7bd4d9d34247988057484e7c116c",
            "c4d00a05a49f4837a7a80ebb6038b514",
            "22d82af7ba874db4989002da5e715f4c",
            "bd8189d4262a4182821a23ba94d051b6",
            "66c6d2735cbb45288a3cfcc0ba37c13c",
            "5a4c88ca5f0c47edaa283d7d7141514d",
            "81b4ceb733b5406fac27a8c6585ee0f3"
          ]
        },
        "outputId": "dad0e6ce-8902-4f05-93f4-a2cbb7ff788e",
        "id": "5ww1fRhvXUH2"
      },
      "execution_count": null,
      "outputs": [
        {
          "output_type": "stream",
          "name": "stderr",
          "text": [
            "INFO:datasets.arrow_dataset:Process #0 will write at /root/.cache/huggingface/datasets/pile-of-law___pile-of-law/r_legaladvice/0.0.0/c1090502f95031ebfad49ede680394da5532909fa46b7a0452be8cddecc9fa60/cache-0071d5f59749d5a2_00000_of_00008.arrow\n",
            "INFO:datasets.arrow_dataset:Process #1 will write at /root/.cache/huggingface/datasets/pile-of-law___pile-of-law/r_legaladvice/0.0.0/c1090502f95031ebfad49ede680394da5532909fa46b7a0452be8cddecc9fa60/cache-0071d5f59749d5a2_00001_of_00008.arrow\n",
            "INFO:datasets.arrow_dataset:Process #2 will write at /root/.cache/huggingface/datasets/pile-of-law___pile-of-law/r_legaladvice/0.0.0/c1090502f95031ebfad49ede680394da5532909fa46b7a0452be8cddecc9fa60/cache-0071d5f59749d5a2_00002_of_00008.arrow\n",
            "INFO:datasets.arrow_dataset:Process #3 will write at /root/.cache/huggingface/datasets/pile-of-law___pile-of-law/r_legaladvice/0.0.0/c1090502f95031ebfad49ede680394da5532909fa46b7a0452be8cddecc9fa60/cache-0071d5f59749d5a2_00003_of_00008.arrow\n",
            "INFO:datasets.arrow_dataset:Process #4 will write at /root/.cache/huggingface/datasets/pile-of-law___pile-of-law/r_legaladvice/0.0.0/c1090502f95031ebfad49ede680394da5532909fa46b7a0452be8cddecc9fa60/cache-0071d5f59749d5a2_00004_of_00008.arrow\n",
            "INFO:datasets.arrow_dataset:Process #5 will write at /root/.cache/huggingface/datasets/pile-of-law___pile-of-law/r_legaladvice/0.0.0/c1090502f95031ebfad49ede680394da5532909fa46b7a0452be8cddecc9fa60/cache-0071d5f59749d5a2_00005_of_00008.arrow\n",
            "INFO:datasets.arrow_dataset:Process #6 will write at /root/.cache/huggingface/datasets/pile-of-law___pile-of-law/r_legaladvice/0.0.0/c1090502f95031ebfad49ede680394da5532909fa46b7a0452be8cddecc9fa60/cache-0071d5f59749d5a2_00006_of_00008.arrow\n",
            "INFO:datasets.arrow_dataset:Process #7 will write at /root/.cache/huggingface/datasets/pile-of-law___pile-of-law/r_legaladvice/0.0.0/c1090502f95031ebfad49ede680394da5532909fa46b7a0452be8cddecc9fa60/cache-0071d5f59749d5a2_00007_of_00008.arrow\n",
            "INFO:datasets.arrow_dataset:Spawning 8 processes\n"
          ]
        },
        {
          "output_type": "display_data",
          "data": {
            "text/plain": [
              "Map (num_proc=8):   0%|          | 0/109740 [00:00<?, ? examples/s]"
            ],
            "application/vnd.jupyter.widget-view+json": {
              "version_major": 2,
              "version_minor": 0,
              "model_id": "1c9799648bc742f89e8ea8559d1f00d2"
            }
          },
          "metadata": {}
        },
        {
          "output_type": "stream",
          "name": "stderr",
          "text": [
            "INFO:datasets.arrow_dataset:Caching processed dataset at /root/.cache/huggingface/datasets/pile-of-law___pile-of-law/r_legaladvice/0.0.0/c1090502f95031ebfad49ede680394da5532909fa46b7a0452be8cddecc9fa60/cache-0071d5f59749d5a2_00002_of_00008.arrow\n",
            "INFO:datasets.arrow_dataset:Caching processed dataset at /root/.cache/huggingface/datasets/pile-of-law___pile-of-law/r_legaladvice/0.0.0/c1090502f95031ebfad49ede680394da5532909fa46b7a0452be8cddecc9fa60/cache-0071d5f59749d5a2_00001_of_00008.arrow\n",
            "INFO:datasets.arrow_dataset:Caching processed dataset at /root/.cache/huggingface/datasets/pile-of-law___pile-of-law/r_legaladvice/0.0.0/c1090502f95031ebfad49ede680394da5532909fa46b7a0452be8cddecc9fa60/cache-0071d5f59749d5a2_00003_of_00008.arrow\n",
            "INFO:datasets.arrow_dataset:Caching processed dataset at /root/.cache/huggingface/datasets/pile-of-law___pile-of-law/r_legaladvice/0.0.0/c1090502f95031ebfad49ede680394da5532909fa46b7a0452be8cddecc9fa60/cache-0071d5f59749d5a2_00000_of_00008.arrow\n",
            "INFO:datasets.arrow_dataset:Caching processed dataset at /root/.cache/huggingface/datasets/pile-of-law___pile-of-law/r_legaladvice/0.0.0/c1090502f95031ebfad49ede680394da5532909fa46b7a0452be8cddecc9fa60/cache-0071d5f59749d5a2_00006_of_00008.arrow\n",
            "INFO:datasets.arrow_dataset:Caching processed dataset at /root/.cache/huggingface/datasets/pile-of-law___pile-of-law/r_legaladvice/0.0.0/c1090502f95031ebfad49ede680394da5532909fa46b7a0452be8cddecc9fa60/cache-0071d5f59749d5a2_00005_of_00008.arrow\n",
            "INFO:datasets.arrow_dataset:Caching processed dataset at /root/.cache/huggingface/datasets/pile-of-law___pile-of-law/r_legaladvice/0.0.0/c1090502f95031ebfad49ede680394da5532909fa46b7a0452be8cddecc9fa60/cache-0071d5f59749d5a2_00004_of_00008.arrow\n",
            "INFO:datasets.arrow_dataset:Caching processed dataset at /root/.cache/huggingface/datasets/pile-of-law___pile-of-law/r_legaladvice/0.0.0/c1090502f95031ebfad49ede680394da5532909fa46b7a0452be8cddecc9fa60/cache-0071d5f59749d5a2_00007_of_00008.arrow\n",
            "INFO:datasets.arrow_dataset:Concatenating 8 shards\n",
            "INFO:datasets.arrow_dataset:Process #0 will write at /root/.cache/huggingface/datasets/pile-of-law___pile-of-law/r_legaladvice/0.0.0/c1090502f95031ebfad49ede680394da5532909fa46b7a0452be8cddecc9fa60/cache-0ae15226d66acfb1_00000_of_00008.arrow\n",
            "INFO:datasets.arrow_dataset:Process #1 will write at /root/.cache/huggingface/datasets/pile-of-law___pile-of-law/r_legaladvice/0.0.0/c1090502f95031ebfad49ede680394da5532909fa46b7a0452be8cddecc9fa60/cache-0ae15226d66acfb1_00001_of_00008.arrow\n",
            "INFO:datasets.arrow_dataset:Process #2 will write at /root/.cache/huggingface/datasets/pile-of-law___pile-of-law/r_legaladvice/0.0.0/c1090502f95031ebfad49ede680394da5532909fa46b7a0452be8cddecc9fa60/cache-0ae15226d66acfb1_00002_of_00008.arrow\n",
            "INFO:datasets.arrow_dataset:Process #3 will write at /root/.cache/huggingface/datasets/pile-of-law___pile-of-law/r_legaladvice/0.0.0/c1090502f95031ebfad49ede680394da5532909fa46b7a0452be8cddecc9fa60/cache-0ae15226d66acfb1_00003_of_00008.arrow\n",
            "INFO:datasets.arrow_dataset:Process #4 will write at /root/.cache/huggingface/datasets/pile-of-law___pile-of-law/r_legaladvice/0.0.0/c1090502f95031ebfad49ede680394da5532909fa46b7a0452be8cddecc9fa60/cache-0ae15226d66acfb1_00004_of_00008.arrow\n",
            "INFO:datasets.arrow_dataset:Process #5 will write at /root/.cache/huggingface/datasets/pile-of-law___pile-of-law/r_legaladvice/0.0.0/c1090502f95031ebfad49ede680394da5532909fa46b7a0452be8cddecc9fa60/cache-0ae15226d66acfb1_00005_of_00008.arrow\n",
            "INFO:datasets.arrow_dataset:Process #6 will write at /root/.cache/huggingface/datasets/pile-of-law___pile-of-law/r_legaladvice/0.0.0/c1090502f95031ebfad49ede680394da5532909fa46b7a0452be8cddecc9fa60/cache-0ae15226d66acfb1_00006_of_00008.arrow\n",
            "INFO:datasets.arrow_dataset:Process #7 will write at /root/.cache/huggingface/datasets/pile-of-law___pile-of-law/r_legaladvice/0.0.0/c1090502f95031ebfad49ede680394da5532909fa46b7a0452be8cddecc9fa60/cache-0ae15226d66acfb1_00007_of_00008.arrow\n",
            "INFO:datasets.arrow_dataset:Spawning 8 processes\n"
          ]
        },
        {
          "output_type": "display_data",
          "data": {
            "text/plain": [
              "Map (num_proc=8):   0%|          | 0/36931 [00:00<?, ? examples/s]"
            ],
            "application/vnd.jupyter.widget-view+json": {
              "version_major": 2,
              "version_minor": 0,
              "model_id": "4771355b40b7486ca3ab40236a76c309"
            }
          },
          "metadata": {}
        },
        {
          "output_type": "stream",
          "name": "stderr",
          "text": [
            "INFO:datasets.arrow_dataset:Caching processed dataset at /root/.cache/huggingface/datasets/pile-of-law___pile-of-law/r_legaladvice/0.0.0/c1090502f95031ebfad49ede680394da5532909fa46b7a0452be8cddecc9fa60/cache-0ae15226d66acfb1_00003_of_00008.arrow\n",
            "INFO:datasets.arrow_dataset:Caching processed dataset at /root/.cache/huggingface/datasets/pile-of-law___pile-of-law/r_legaladvice/0.0.0/c1090502f95031ebfad49ede680394da5532909fa46b7a0452be8cddecc9fa60/cache-0ae15226d66acfb1_00002_of_00008.arrow\n",
            "INFO:datasets.arrow_dataset:Caching processed dataset at /root/.cache/huggingface/datasets/pile-of-law___pile-of-law/r_legaladvice/0.0.0/c1090502f95031ebfad49ede680394da5532909fa46b7a0452be8cddecc9fa60/cache-0ae15226d66acfb1_00006_of_00008.arrow\n",
            "INFO:datasets.arrow_dataset:Caching processed dataset at /root/.cache/huggingface/datasets/pile-of-law___pile-of-law/r_legaladvice/0.0.0/c1090502f95031ebfad49ede680394da5532909fa46b7a0452be8cddecc9fa60/cache-0ae15226d66acfb1_00000_of_00008.arrow\n",
            "INFO:datasets.arrow_dataset:Caching processed dataset at /root/.cache/huggingface/datasets/pile-of-law___pile-of-law/r_legaladvice/0.0.0/c1090502f95031ebfad49ede680394da5532909fa46b7a0452be8cddecc9fa60/cache-0ae15226d66acfb1_00007_of_00008.arrow\n",
            "INFO:datasets.arrow_dataset:Caching processed dataset at /root/.cache/huggingface/datasets/pile-of-law___pile-of-law/r_legaladvice/0.0.0/c1090502f95031ebfad49ede680394da5532909fa46b7a0452be8cddecc9fa60/cache-0ae15226d66acfb1_00004_of_00008.arrow\n",
            "INFO:datasets.arrow_dataset:Caching processed dataset at /root/.cache/huggingface/datasets/pile-of-law___pile-of-law/r_legaladvice/0.0.0/c1090502f95031ebfad49ede680394da5532909fa46b7a0452be8cddecc9fa60/cache-0ae15226d66acfb1_00005_of_00008.arrow\n",
            "INFO:datasets.arrow_dataset:Caching processed dataset at /root/.cache/huggingface/datasets/pile-of-law___pile-of-law/r_legaladvice/0.0.0/c1090502f95031ebfad49ede680394da5532909fa46b7a0452be8cddecc9fa60/cache-0ae15226d66acfb1_00001_of_00008.arrow\n",
            "INFO:datasets.arrow_dataset:Concatenating 8 shards\n"
          ]
        }
      ]
    },
    {
      "cell_type": "code",
      "source": [
        "block_size = 128\n",
        "def group_texts(examples):\n",
        "    # Concatenate all texts.\n",
        "    concatenated_examples = {k: sum(examples[k], []) for k in examples.keys()}\n",
        "    total_length = len(concatenated_examples[list(examples.keys())[0]])\n",
        "    # We drop the small remainder, we could add padding if the model supported it instead of this drop, you can\n",
        "        # customize this part to your needs.\n",
        "    total_length = (total_length // block_size) * block_size\n",
        "    # Split by chunks of max_len.\n",
        "    result = {\n",
        " k: [t[i : i + block_size] for i in range(0, total_length, block_size)]\n",
        "        for k, t in concatenated_examples.items()\n",
        "    }\n",
        "    result[\"labels\"] = result[\"input_ids\"].copy()\n",
        "    return result\n",
        "\n",
        "lm_datasets = tokenized_dataset.map(\n",
        "    group_texts,\n",
        "    batched=True,\n",
        "    batch_size=1000,\n",
        "    num_proc=8,\n",
        ")"
      ],
      "metadata": {
        "colab": {
          "base_uri": "https://localhost:8080/",
          "height": 364,
          "referenced_widgets": [
            "ca8e7fef30d14e47bd065a2fc667cb76",
            "96a2512b3b3c4acd925ed6440ee959b3",
            "019dbbacf54a46a5b55d7cf3d49e6a76",
            "c37bbea33cb94d0fa1367c055c4caa36",
            "0a633db658e44572ad52c5baeb8d2d0a",
            "2ed0efb019e4456ea033a0f0dbd91971",
            "a906d0e27252494c8cb5cabe2f3dd6a4",
            "98240ae3a07a4371a66b463aebd26930",
            "6fbfb5fa40df469e8ce158e9769db5ff",
            "62aba71d12a64af3a317f1be2e52035b",
            "09e4f8f14c87468ea6a1a68990b508af"
          ]
        },
        "outputId": "3cb60e9e-270a-4ce0-92f8-cb9d421a41e0",
        "id": "e5ZOlmcyXUH3"
      },
      "execution_count": null,
      "outputs": [
        {
          "output_type": "stream",
          "name": "stderr",
          "text": [
            "INFO:datasets.arrow_dataset:Process #0 will write at /root/.cache/huggingface/datasets/pile-of-law___pile-of-law/r_legaladvice/0.0.0/c1090502f95031ebfad49ede680394da5532909fa46b7a0452be8cddecc9fa60/cache-fe2fb3a4e876edde_00000_of_00008.arrow\n",
            "INFO:datasets.arrow_dataset:Process #1 will write at /root/.cache/huggingface/datasets/pile-of-law___pile-of-law/r_legaladvice/0.0.0/c1090502f95031ebfad49ede680394da5532909fa46b7a0452be8cddecc9fa60/cache-fe2fb3a4e876edde_00001_of_00008.arrow\n",
            "INFO:datasets.arrow_dataset:Process #2 will write at /root/.cache/huggingface/datasets/pile-of-law___pile-of-law/r_legaladvice/0.0.0/c1090502f95031ebfad49ede680394da5532909fa46b7a0452be8cddecc9fa60/cache-fe2fb3a4e876edde_00002_of_00008.arrow\n",
            "INFO:datasets.arrow_dataset:Process #3 will write at /root/.cache/huggingface/datasets/pile-of-law___pile-of-law/r_legaladvice/0.0.0/c1090502f95031ebfad49ede680394da5532909fa46b7a0452be8cddecc9fa60/cache-fe2fb3a4e876edde_00003_of_00008.arrow\n",
            "INFO:datasets.arrow_dataset:Process #4 will write at /root/.cache/huggingface/datasets/pile-of-law___pile-of-law/r_legaladvice/0.0.0/c1090502f95031ebfad49ede680394da5532909fa46b7a0452be8cddecc9fa60/cache-fe2fb3a4e876edde_00004_of_00008.arrow\n",
            "INFO:datasets.arrow_dataset:Process #5 will write at /root/.cache/huggingface/datasets/pile-of-law___pile-of-law/r_legaladvice/0.0.0/c1090502f95031ebfad49ede680394da5532909fa46b7a0452be8cddecc9fa60/cache-fe2fb3a4e876edde_00005_of_00008.arrow\n",
            "INFO:datasets.arrow_dataset:Process #6 will write at /root/.cache/huggingface/datasets/pile-of-law___pile-of-law/r_legaladvice/0.0.0/c1090502f95031ebfad49ede680394da5532909fa46b7a0452be8cddecc9fa60/cache-fe2fb3a4e876edde_00006_of_00008.arrow\n",
            "INFO:datasets.arrow_dataset:Process #7 will write at /root/.cache/huggingface/datasets/pile-of-law___pile-of-law/r_legaladvice/0.0.0/c1090502f95031ebfad49ede680394da5532909fa46b7a0452be8cddecc9fa60/cache-fe2fb3a4e876edde_00007_of_00008.arrow\n",
            "INFO:datasets.arrow_dataset:Spawning 8 processes\n"
          ]
        },
        {
          "output_type": "display_data",
          "data": {
            "text/plain": [
              "Map (num_proc=8):   0%|          | 0/109740 [00:00<?, ? examples/s]"
            ],
            "application/vnd.jupyter.widget-view+json": {
              "version_major": 2,
              "version_minor": 0,
              "model_id": "ca8e7fef30d14e47bd065a2fc667cb76"
            }
          },
          "metadata": {}
        },
        {
          "output_type": "stream",
          "name": "stderr",
          "text": [
            "INFO:datasets.arrow_dataset:Caching processed dataset at /root/.cache/huggingface/datasets/pile-of-law___pile-of-law/r_legaladvice/0.0.0/c1090502f95031ebfad49ede680394da5532909fa46b7a0452be8cddecc9fa60/cache-fe2fb3a4e876edde_00003_of_00008.arrow\n",
            "INFO:datasets.arrow_dataset:Caching processed dataset at /root/.cache/huggingface/datasets/pile-of-law___pile-of-law/r_legaladvice/0.0.0/c1090502f95031ebfad49ede680394da5532909fa46b7a0452be8cddecc9fa60/cache-fe2fb3a4e876edde_00006_of_00008.arrow\n",
            "INFO:datasets.arrow_dataset:Caching processed dataset at /root/.cache/huggingface/datasets/pile-of-law___pile-of-law/r_legaladvice/0.0.0/c1090502f95031ebfad49ede680394da5532909fa46b7a0452be8cddecc9fa60/cache-fe2fb3a4e876edde_00000_of_00008.arrow\n",
            "INFO:datasets.arrow_dataset:Caching processed dataset at /root/.cache/huggingface/datasets/pile-of-law___pile-of-law/r_legaladvice/0.0.0/c1090502f95031ebfad49ede680394da5532909fa46b7a0452be8cddecc9fa60/cache-fe2fb3a4e876edde_00001_of_00008.arrow\n",
            "INFO:datasets.arrow_dataset:Caching processed dataset at /root/.cache/huggingface/datasets/pile-of-law___pile-of-law/r_legaladvice/0.0.0/c1090502f95031ebfad49ede680394da5532909fa46b7a0452be8cddecc9fa60/cache-fe2fb3a4e876edde_00005_of_00008.arrow\n",
            "INFO:datasets.arrow_dataset:Caching processed dataset at /root/.cache/huggingface/datasets/pile-of-law___pile-of-law/r_legaladvice/0.0.0/c1090502f95031ebfad49ede680394da5532909fa46b7a0452be8cddecc9fa60/cache-fe2fb3a4e876edde_00004_of_00008.arrow\n",
            "INFO:datasets.arrow_dataset:Caching processed dataset at /root/.cache/huggingface/datasets/pile-of-law___pile-of-law/r_legaladvice/0.0.0/c1090502f95031ebfad49ede680394da5532909fa46b7a0452be8cddecc9fa60/cache-fe2fb3a4e876edde_00002_of_00008.arrow\n",
            "INFO:datasets.arrow_dataset:Caching processed dataset at /root/.cache/huggingface/datasets/pile-of-law___pile-of-law/r_legaladvice/0.0.0/c1090502f95031ebfad49ede680394da5532909fa46b7a0452be8cddecc9fa60/cache-fe2fb3a4e876edde_00007_of_00008.arrow\n"
          ]
        }
      ]
    },
    {
      "cell_type": "code",
      "source": [
        "\n",
        "training_args = TrainingArguments(\n",
        "    f\"bloom3b-finetuned-pileoflaw_reddit\",\n",
        "    per_device_train_batch_size=16,\n",
        "    gradient_checkpointing=True,\n",
        "    gradient_accumulation_steps=4,\n",
        "    optim=\"adafactor\", # improved optimizer\n",
        "    logging_steps=40,\n",
        "    save_strategy='epoch',\n",
        "    weight_decay=0.1,\n",
        "    learning_rate=5e-6,\n",
        "    evaluation_strategy='steps',\n",
        "    eval_steps=400,\n",
        "    #bf16=True,\n",
        "    tf32=True,\n",
        "    per_device_eval_batch_size=16,\n",
        "    #PyTorch 2.0 specifics\n",
        "    torch_compile=True, # optimizations\n",
        ")"
      ],
      "metadata": {
        "id": "7ECD7swYXUH3"
      },
      "execution_count": null,
      "outputs": []
    },
    {
      "cell_type": "code",
      "source": [
        "trainer = Trainer(\n",
        "    model=model,\n",
        "    args=training_args,\n",
        "    train_dataset=lm_datasets[\"train\"],\n",
        "    eval_dataset=lm_datasets[\"validation\"],\n",
        ")"
      ],
      "metadata": {
        "id": "uzO_-Du7XUH3"
      },
      "execution_count": null,
      "outputs": []
    },
    {
      "cell_type": "code",
      "source": [
        "trainer.train()"
      ],
      "metadata": {
        "id": "Hsbp7JH_XUH5"
      },
      "execution_count": null,
      "outputs": []
    }
  ]
}